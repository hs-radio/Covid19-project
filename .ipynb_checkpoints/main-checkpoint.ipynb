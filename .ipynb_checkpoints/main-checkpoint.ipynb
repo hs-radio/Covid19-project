{
 "cells": [
  {
   "cell_type": "code",
   "execution_count": 9,
   "id": "1da6ab42-2d50-4382-9eff-e1c975340675",
   "metadata": {},
   "outputs": [],
   "source": [
    "# import libraries\n",
    "from pprint import pprint\n",
    "import importlib\n",
    "import matplotlib.pyplot as plt\n",
    "import pandas as pd\n",
    "from shapely.geometry import Point\n",
    "import matplotlib.animation as animation\n",
    "from datetime import timedelta\n",
    "import geopandas as gpd\n",
    "import matplotlib.animation as animation\n",
    "from PIL import Image\n",
    "import io\n",
    "from datetime import datetime\n",
    "from owid import catalog\n",
    "\n",
    "# my function\n",
    "import plot_data as pl\n",
    "import transform_data as td\n",
    "import machine_learning_model as mlm\n",
    "\n",
    "# Variables\n",
    "cat = catalog.find(namespace=\"covid\")\n",
    "tb_country_cases_deaths = cat.iloc[1].load()  \n",
    "tb_country_vac = cat.iloc[41].load() \n",
    "world = gpd.read_file('ne_110m_admin_0_countries/ne_110m_admin_0_countries.shp')"
   ]
  },
  {
   "cell_type": "code",
   "execution_count": null,
   "id": "5407573f-1fab-4510-9300-06788648fb27",
   "metadata": {
    "scrolled": true
   },
   "outputs": [],
   "source": [
    "# Presentation functions\n",
    "# --------------------------------\n",
    "importlib.reload(pl)\n",
    "# pl.disp_catalogue_info(cat)  # show datasets in catalogue\n",
    "# pl.plot_cases_deaths_by_country(tb_country_cases_deaths, 'Austria', None)  # cases and deaths over time of a country\n",
    "\n",
    "fig, ax = plt.subplots(figsize=(15, 10))\n",
    "# world_fig = pl.plot_world_map_with_circles(fig, ax, tb_country_cases_deaths, world, \"2022-01-01\", True) # plot world cases on some date.\n",
    "\n",
    "start_date, end_date = '2021-07-01', '2021-07-07'\n",
    "num_show_name = 50e3 # number of cases required for the countries name to appear above it.\n",
    "pl.create_world_map_cases_animation(fig, ax, tb_country_cases_deaths, world, 'covid_cases_animation.gif', start_date, end_date, num_show_name)"
   ]
  },
  {
   "cell_type": "code",
   "execution_count": 208,
   "id": "95980732-84bc-4ab6-8f15-4036e6c69ac5",
   "metadata": {},
   "outputs": [],
   "source": [
    "# Transform data\n",
    "# --------------------------------\n",
    "importlib.reload(td)\n",
    "features_cd = [\"new_cases\", \"new_deaths\"]\n",
    "# df_cases, df_deaths = td.process_data_by_country(tb_country_cases_deaths, features_cd)\n",
    "\n",
    "features_vac = [\"daily_people_vaccinated_smoothed_per_hundred\", \n",
    "        \"people_fully_vaccinated_per_hundred\", \n",
    "        \"total_boosters_per_hundred\"]\n",
    "df_daily_vac_p100, df_ppl_vac_p100, df_boosters_p100 = td.process_data_by_country(tb_country_vac, features_vac)\n",
    "\n",
    "# Fix specific errors in the data\n",
    "df_ppl_vac_p100, df_boosters_p100 = td.specific_corrections(df_ppl_vac_p100, df_boosters_p100)"
   ]
  },
  {
   "cell_type": "code",
   "execution_count": null,
   "id": "8dcf6833-d17e-4bdb-a3c0-a6a0fae0f392",
   "metadata": {},
   "outputs": [],
   "source": [
    "importlib.reload(pl)\n",
    "\n",
    "for country in df_daily_vac_p100.columns:  # Assuming columns are country names\n",
    "    print(f\"Plotting data for {country}...\")\n",
    "    \n",
    "    pl.plot_country_vac(country, df_daily_vac_p100, df_ppl_vac_p100, df_boosters_p100)\n",
    "    pl.plot_country_cd(country, df_cases, df_deaths)\n",
    "    \n",
    "    input(f\"Press Enter to continue to the next country ({country} done)...\")\n"
   ]
  },
  {
   "cell_type": "code",
   "execution_count": 211,
   "id": "cacc9af7-aa08-4f17-b239-0e311bf75574",
   "metadata": {},
   "outputs": [
    {
     "data": {
      "text/plain": [
       "Index(['total_vaccinations', 'people_vaccinated', 'people_fully_vaccinated',\n",
       "       'total_boosters', 'daily_vaccinations', 'daily_vaccinations_smoothed',\n",
       "       'daily_people_vaccinated_smoothed', 'total_vaccinations_per_hundred',\n",
       "       'people_vaccinated_per_hundred', 'people_fully_vaccinated_per_hundred',\n",
       "       'total_boosters_per_hundred',\n",
       "       'daily_people_vaccinated_smoothed_per_hundred',\n",
       "       'daily_vaccinations_smoothed_per_million', 'people_unvaccinated',\n",
       "       'share_of_boosters', 'total_vaccinations_interpolated',\n",
       "       'people_vaccinated_interpolated',\n",
       "       'people_fully_vaccinated_interpolated', 'total_boosters_interpolated',\n",
       "       'total_vaccinations_no_boosters_interpolated',\n",
       "       'total_vaccinations_no_boosters_per_hundred_interpolated',\n",
       "       'rolling_vaccinations_6m', 'rolling_vaccinations_6m_per_hundred',\n",
       "       'rolling_vaccinations_9m', 'rolling_vaccinations_9m_per_hundred',\n",
       "       'rolling_vaccinations_12m', 'rolling_vaccinations_12m_per_hundred'],\n",
       "      dtype='object')"
      ]
     },
     "execution_count": 211,
     "metadata": {},
     "output_type": "execute_result"
    }
   ],
   "source": [
    "# Filter for 'Australia' as the index and show all columns for each date\n",
    "tb_country_vac.loc['India'].columns\n"
   ]
  },
  {
   "cell_type": "code",
   "execution_count": null,
   "id": "7293450a-5a83-4202-9116-17260f9d2250",
   "metadata": {},
   "outputs": [],
   "source": []
  }
 ],
 "metadata": {
  "kernelspec": {
   "display_name": "Python 3 (ipykernel)",
   "language": "python",
   "name": "python3"
  },
  "language_info": {
   "codemirror_mode": {
    "name": "ipython",
    "version": 3
   },
   "file_extension": ".py",
   "mimetype": "text/x-python",
   "name": "python",
   "nbconvert_exporter": "python",
   "pygments_lexer": "ipython3",
   "version": "3.12.3"
  }
 },
 "nbformat": 4,
 "nbformat_minor": 5
}
